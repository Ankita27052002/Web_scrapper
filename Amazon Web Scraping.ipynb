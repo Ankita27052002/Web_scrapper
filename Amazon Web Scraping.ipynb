{
 "cells": [
  {
   "cell_type": "code",
   "execution_count": 1,
   "id": "2a857e9f",
   "metadata": {},
   "outputs": [],
   "source": [
    "# import libraries \n",
    "\n",
    "from bs4 import BeautifulSoup\n",
    "import requests\n",
    "import time\n",
    "import datetime\n",
    "\n",
    "import smtplib"
   ]
  },
  {
   "cell_type": "code",
   "execution_count": 2,
   "id": "c130b294",
   "metadata": {},
   "outputs": [],
   "source": [
    "# Connect to the website\n",
    "headers = headers={'User-Agent':'Mozilla/5.0 (Windows NT 6.3; Win 64 ; x64) Apple WeKit /537.36(KHTML , like Gecko) Chrome/80.0.3987.162 Safari/537.36'}\n",
    "\n",
    "webpage = requests.get('https://www.amazon.in/Amazon-Brand-Myx-Straight-SS18E3_Green_Medium/dp/B07DBWV89Y/ref=sr_1_6?adgrpid=73151463035&ext_vrnc=hi&hvadid=590591345228&hvdev=c&hvlocphy=9299124&hvnetw=g&hvqmt=b&hvrand=1971658176780773550&hvtargid=kwd-300031200208&hydadcr=16382_2164284&keywords=amazon+0nline+shopping&qid=1680081221&sr=8-6',headers = headers).text\n",
    "\n"
   ]
  },
  {
   "cell_type": "code",
   "execution_count": 3,
   "id": "10f08fec",
   "metadata": {},
   "outputs": [],
   "source": [
    "soup=BeautifulSoup(webpage,'lxml')"
   ]
  },
  {
   "cell_type": "code",
   "execution_count": 4,
   "id": "7fa0bd01",
   "metadata": {},
   "outputs": [],
   "source": [
    "title = soup.find_all('h1')[0].text.strip()"
   ]
  },
  {
   "cell_type": "code",
   "execution_count": 5,
   "id": "c8017cff",
   "metadata": {},
   "outputs": [
    {
     "name": "stdout",
     "output_type": "stream",
     "text": [
      "Amazon Brand - Myx Women's Regular Kurti\n"
     ]
    }
   ],
   "source": [
    "print(title)"
   ]
  },
  {
   "cell_type": "code",
   "execution_count": 6,
   "id": "43fadec4",
   "metadata": {},
   "outputs": [],
   "source": [
    "price = soup.find('span',class_='a-offscreen').text"
   ]
  },
  {
   "cell_type": "code",
   "execution_count": 7,
   "id": "7938f8e2",
   "metadata": {},
   "outputs": [
    {
     "name": "stdout",
     "output_type": "stream",
     "text": [
      "₹309.83\n"
     ]
    }
   ],
   "source": [
    "print(price)"
   ]
  },
  {
   "cell_type": "code",
   "execution_count": 8,
   "id": "8098c0d5",
   "metadata": {},
   "outputs": [
    {
     "name": "stdout",
     "output_type": "stream",
     "text": [
      "2023-03-29\n"
     ]
    }
   ],
   "source": [
    "import datetime\n",
    "\n",
    "today = datetime.date.today()\n",
    "\n",
    "print(today)\n"
   ]
  },
  {
   "cell_type": "code",
   "execution_count": 9,
   "id": "b56fb4e5",
   "metadata": {},
   "outputs": [],
   "source": [
    "import csv\n",
    "\n",
    "header = ['title','price','date']\n",
    "data = [title, price, today]\n",
    "\n",
    "with open('AmazonWebScraper.csv','w',newline='',encoding='UTF8') as f:\n",
    "    writer = csv.writer(f)\n",
    "    writer.writerow(header)\n",
    "    writer.writerow(data)\n",
    "\n"
   ]
  },
  {
   "cell_type": "code",
   "execution_count": 10,
   "id": "008b6bbd",
   "metadata": {},
   "outputs": [
    {
     "name": "stdout",
     "output_type": "stream",
     "text": [
      "                                      title    price        date\n",
      "0  Amazon Brand - Myx Women's Regular Kurti  ₹309.83  2023-03-29\n"
     ]
    }
   ],
   "source": [
    "import pandas as pd \n",
    "\n",
    "df = pd.read_csv('AmazonWebScraper.csv')\n",
    "\n",
    "print(df)"
   ]
  },
  {
   "cell_type": "code",
   "execution_count": 11,
   "id": "e5ad72ed",
   "metadata": {},
   "outputs": [],
   "source": [
    "# appending the data in csv\n",
    "\n",
    "with open('AmazonWebScraper.csv','a+',newline='',encoding='UTF8') as f:\n",
    "    writer = csv.writer(f)\n",
    "    writer.writerow(data)"
   ]
  },
  {
   "cell_type": "code",
   "execution_count": 12,
   "id": "c42d2ad6",
   "metadata": {},
   "outputs": [],
   "source": [
    "def checkPrice():\n",
    "    headers = headers={'User-Agent':'Mozilla/5.0 (Windows NT 6.3; Win 64 ; x64) Apple WeKit /537.36(KHTML , like Gecko) Chrome/80.0.3987.162 Safari/537.36'}\n",
    "\n",
    "    webpage = requests.get('https://www.amazon.in/Amazon-Brand-Myx-Straight-SS18E3_Green_Medium/dp/B07DBWV89Y/ref=sr_1_6?adgrpid=73151463035&ext_vrnc=hi&hvadid=590591345228&hvdev=c&hvlocphy=9299124&hvnetw=g&hvqmt=b&hvrand=1971658176780773550&hvtargid=kwd-300031200208&hydadcr=16382_2164284&keywords=amazon+0nline+shopping&qid=1680081221&sr=8-6',headers = headers).text\n",
    "    soup=BeautifulSoup(webpage,'lxml')\n",
    "    title = soup.find_all('h1')[0].text.strip()\n",
    "    price = soup.find('span',class_='a-offscreen').text\n",
    "    \n",
    "    import datetime\n",
    "    today = datetime.date.today()\n",
    "    \n",
    "    import csv\n",
    "\n",
    "    header = ['title','price','date']\n",
    "    data = [title, price, today]\n",
    "    \n",
    "    with open('AmazonWebScraper.csv','a+',newline='',encoding='UTF8') as f:\n",
    "        writer = csv.writer(f)\n",
    "        writer.writerow(data)\n",
    "\n",
    "    \n",
    "    \n"
   ]
  },
  {
   "cell_type": "code",
   "execution_count": null,
   "id": "4ad7b78f",
   "metadata": {},
   "outputs": [],
   "source": [
    "# Runs check_price after a set time and inputs data into your CSV\n",
    "# here after one day we upadater the data\n",
    "\n",
    "while(True):\n",
    "    checkPrice()\n",
    "    time.sleep(5)"
   ]
  },
  {
   "cell_type": "code",
   "execution_count": 13,
   "id": "3a5d12c1",
   "metadata": {},
   "outputs": [
    {
     "name": "stdout",
     "output_type": "stream",
     "text": [
      "                                      title    price        date\n",
      "0  Amazon Brand - Myx Women's Regular Kurti  ₹309.83  2023-03-29\n",
      "1  Amazon Brand - Myx Women's Regular Kurti  ₹309.83  2023-03-29\n"
     ]
    }
   ],
   "source": [
    "import pandas as pd \n",
    "\n",
    "df = pd.read_csv('AmazonWebScraper.csv')\n",
    "\n",
    "print(df)"
   ]
  },
  {
   "cell_type": "code",
   "execution_count": 14,
   "id": "f4ad38e8",
   "metadata": {},
   "outputs": [],
   "source": [
    "# If uou want to try sending yourself an email (just for fun) when a price hits below a certain level you can try it\n",
    "# out with this script\n",
    "\n",
    "\n",
    "def send_mail():\n",
    "    server = smtplib.SMTP_SSL('smtp.gmail.com',465)\n",
    "    \n",
    "    server.ehlo()\n",
    "    \n",
    "    server.ehlo()\n",
    "    \n",
    "    server.login('mandalankita9832@gmail.com','tutun2002')\n",
    "    \n",
    "    Subject = \"The Kurti you want is below Rs.299 ! Now is your chance to buy!\"\n",
    "    body = \"Ankita this is the time you are waiting for. The Kurti price is dropped. Dont mess it up. Link here : https://www.amazon.in/Amazon-Brand-Myx-Straight-SS18E3_Green_Medium/dp/B07DBWV89Y/ref=sr_1_6?adgrpid=73151463035&ext_vrnc=hi&hvadid=590591345228&hvdev=c&hvlocphy=9299124&hvnetw=g&hvqmt=b&hvrand=1971658176780773550&hvtargid=kwd-300031200208&hydadcr=16382_2164284&keywords=amazon+0nline+shopping&qid=1680081221&sr=8-6\"\n",
    "    \n",
    "    msg = f\"Subject:{subject}\\n\\n{body}\"\n",
    "    \n",
    "    server.sendmail(\n",
    "    'mandalankita9832@gmail.com',msg\n",
    "    )"
   ]
  },
  {
   "cell_type": "code",
   "execution_count": null,
   "id": "dd63c7cd",
   "metadata": {},
   "outputs": [],
   "source": []
  }
 ],
 "metadata": {
  "kernelspec": {
   "display_name": "Python 3 (ipykernel)",
   "language": "python",
   "name": "python3"
  },
  "language_info": {
   "codemirror_mode": {
    "name": "ipython",
    "version": 3
   },
   "file_extension": ".py",
   "mimetype": "text/x-python",
   "name": "python",
   "nbconvert_exporter": "python",
   "pygments_lexer": "ipython3",
   "version": "3.8.8"
  }
 },
 "nbformat": 4,
 "nbformat_minor": 5
}
